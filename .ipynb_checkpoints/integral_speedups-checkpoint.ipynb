{
 "cells": [
  {
   "cell_type": "code",
   "execution_count": 2,
   "metadata": {},
   "outputs": [],
   "source": [
    "import numpy as np\n",
    "import time\n",
    "import random\n",
    "from sympy import *"
   ]
  },
  {
   "cell_type": "code",
   "execution_count": 5,
   "metadata": {},
   "outputs": [],
   "source": [
    "def create_random_params():\n",
    "    ret = np.zeros((2,7))\n",
    "    for i in range(2):\n",
    "        for j in range(1,7):\n",
    "            ret[i][j] = random.uniform(-1,1)\n",
    "    return ret"
   ]
  },
  {
   "cell_type": "code",
   "execution_count": 66,
   "metadata": {},
   "outputs": [],
   "source": [
    "def f_x(params,x,y):\n",
    "    assert params.shape == (7,), 'Check number of parameters'\n",
    "    return -params[1]*np.sin(x) + params[2]*np.cos(x) + params[5]*np.cos(x)*(np.cos(y)**2) - params[6]*np.sin(y)*np.sin(2*x)\n",
    "\n",
    "def f_y(params,x,y):\n",
    "    assert params.shape == (7,), 'Check number of parameters'\n",
    "    return -params[3]*np.sin(y) + params[4]*np.cos(y) - params[5]*np.sin(x)*np.sin(2*y) + params[6]*np.cos(y)*(np.cos(x)**2)\n"
   ]
  },
  {
   "cell_type": "code",
   "execution_count": 7,
   "metadata": {},
   "outputs": [],
   "source": [
    "def norm_grad_2(params,x,y):\n",
    "    assert params.shape == (2,7), 'Check number of parameters'\n",
    "    params_a, params_b = params[0], params[1]\n",
    "    \n",
    "    return f_x(params_a,x,y)**2 + f_y(params_a,x,y)**2 + f_x(params_b,x,y)**2 + f_y(params_b,x,y)**2 \n",
    "\n",
    "def det_grad(params,x,y):\n",
    "    assert params.shape == (2,7), 'Check number of parameters'\n",
    "    params_a, params_b = params[0], params[1]\n",
    "    \n",
    "    return f_x(params_a,x,y)*f_y(params_b,x,y) - f_x(params_b,x,y)*f_y(params_a,x,y)\n",
    "\n",
    "def norm_grad_4(params,x,y):\n",
    "    return norm_grad_2(params,x,y)**2"
   ]
  },
  {
   "cell_type": "code",
   "execution_count": 74,
   "metadata": {},
   "outputs": [],
   "source": [
    "def integrate_sympy_new(params):\n",
    "    assert params.shape == (2,7), 'Check number of parameters'\n",
    "    params_a, params_b = params[0],params[1]\n",
    "    x, y = symbols('x y', real=True)\n",
    "    dax = -params_a[1]*sin(x) + params_a[2]*cos(x) + params_a[5]*cos(x)*(cos(y)**2) - 2*params_a[6]*sin(y)*sin(x)*cos(x)\n",
    "    day = -params_a[3]*sin(y) + params_a[4]*cos(y) - 2* params_a[5]*sin(x)*sin(y)*cos(y) + params_a[6]*cos(y)*(cos(x)**2)\n",
    "\n",
    "\n",
    "    dbx = -params_b[1]*sin(x) + params_b[2]*cos(x) + params_b[5]*cos(x)*(cos(y)**2) - 2*params_b[6]*sin(y)*sin(x)*cos(x)\n",
    "    dby = -params_b[3]*sin(y) + params_b[4]*cos(y) - 2*params_b[5]*sin(x)*sin(y)*cos(y) + params_b[6]*cos(y)*(cos(x)**2)\n",
    "    \n",
    "    ng2 = dax**2 + day**2 + dbx**2 + dby**2\n",
    "    ng4 = ng2**2\n",
    "    dg = dax*dby - day*dbx\n",
    "    \n",
    "    rhs = N(integrate(ng2*dg, (x, -pi, pi), (y, -pi, pi)))\n",
    "    lhs = N(integrate(ng4, (x, -pi, pi), (y, -pi, pi)))\n",
    "    if rhs == 0:\n",
    "        return 0\n",
    "    else:\n",
    "        return lhs/rhs\n",
    "\n",
    "def integrate_sympy_old(params):\n",
    "    assert params.shape == (2,7), 'Check number of parameters'\n",
    "    params_a, params_b = params[0],params[1]\n",
    "    x, y = symbols('x y', real=True)\n",
    "    \n",
    "    a = params_a[1] * cos(x) + params_a[2] * sin(x) + params_a[3] * cos(y) + params_a[4] * sin(y) + params_a[5]*sin(x)*(cos(y)**2) + \\\n",
    "        params_a[6]*sin(y)*(cos(x)**2)\n",
    "    b = params_b[1] * cos(x) + params_b[2] * sin(x) + params_b[3] * cos(y) + params_b[4] * sin(y) + params_b[5]*sin(x)*(cos(y)**2) + \\\n",
    "        params_b[6]*sin(y)*(cos(x)**2)\n",
    "\n",
    "    # Calculate interior of right-hand integral\n",
    "    det_del_u = diff(a, x)*diff(b, y) - diff(a, y)*diff(b, x)\n",
    "    norm_del_u_squared = diff(a, x)*diff(a, x) + diff(a, y)*diff(a, y) + diff(b, x)*diff(b, x) \\\n",
    "                         + diff(b, y)*diff(b, y)\n",
    "\n",
    "    # Calculate interior of left-hand integral\n",
    "    norm_del_u_fourth = norm_del_u_squared * norm_del_u_squared\n",
    "\n",
    "    # Compute left and right hand integrals\n",
    "    rhs = N(integrate(det_del_u * norm_del_u_squared, (x, -pi, pi), (y, -pi, pi)))\n",
    "    lhs = N(integrate(norm_del_u_fourth, (x, -pi, pi), (y, -pi, pi)))\n",
    "    \n",
    "    if rhs == 0:\n",
    "        return 0\n",
    "    else:\n",
    "        return lhs/rhs"
   ]
  },
  {
   "cell_type": "code",
   "execution_count": 18,
   "metadata": {},
   "outputs": [],
   "source": [
    "def integrate_fast(params):\n",
    "    assert params.shape == (2,7), 'Check number of parameters'\n",
    "    \n",
    "    params_a, params_b = params[0], params[1]\n",
    "    #functions are\n",
    "    #a = a1 cos(x) + a2 sin(x) + a3 cos(y) + a4 sin(y) + a5 sin(x) cos^2(y) + a6 sin(y) cos^2(x)\n",
    "    #b = b1 cos(x) + b2 sin(x) + b3 cos(y) + b4 sin(y) + b5 sin(x) cos^2(y) + b6 sin(y) cos^2(x)\n",
    "    \n",
    "    #derivatives are\n",
    "    #a_x = -a1 sin(x) + a2 cos(x) + a5 cos(x) cos^2(y) - a6 sin(y) sin(2x)\n",
    "    #a_y = -a3 sin(y) + a4 cos(y) - a5 sin(x) sin(2y) + a6 cos(y) sin^2(x)\n",
    "    #b_x = -b1 sin(x) + b2 cos(x) + b5 cos(x) cos^2(y) - b6 sin(y) sin(2x)\n",
    "    #b_y = -b3 sin(y) + b4 cos(y) - b5 sin(x) sin(2y) + b6 cos(y) sin^2(x)\n",
    "    xvals = np.linspace(-np.pi,np.pi,1000)\n",
    "    yvals = np.linspace(-np.pi,np.pi,1000)\n",
    "    \n",
    "    lhs = 0\n",
    "    rhs = 0\n",
    "    \n",
    "    for x in xvals:\n",
    "        for y in yvals:\n",
    "            dax = f_x(params_a,x,y)\n",
    "            day = f_y(params_a,x,y)\n",
    "            dbx = f_x(params_b,x,y)\n",
    "            dby = f_y(params_b,x,y)\n",
    "            \n",
    "            ng2 = dax**2 + day**2 + dbx**2 + dby**2\n",
    "            ng4 = ng2**2\n",
    "            dg = dax*dby - day*dbx\n",
    "            \n",
    "            lhs += ng4\n",
    "            rhs += ng2*dg\n",
    "    if rhs == 0:\n",
    "        return 0\n",
    "    return lhs/rhs"
   ]
  },
  {
   "cell_type": "code",
   "execution_count": 75,
   "metadata": {
    "scrolled": true
   },
   "outputs": [
    {
     "name": "stdout",
     "output_type": "stream",
     "text": [
      "49.853841099999954\n",
      "28.7246204752250\n",
      "61.601548900000125\n",
      "28.7246204752250\n",
      "56.41040369999973\n",
      "28.76655358198561\n"
     ]
    }
   ],
   "source": [
    "#rparams = create_random_params()\n",
    "\n",
    "start = time.perf_counter()\n",
    "c = integrate_sympy_old(rparams)\n",
    "end = time.perf_counter()\n",
    "print(end - start)\n",
    "print(c)\n",
    "\n",
    "start = time.perf_counter()\n",
    "c = integrate_sympy_new(rparams)\n",
    "end = time.perf_counter()\n",
    "print(end - start)\n",
    "print(c)\n",
    "\n",
    "start = time.perf_counter()\n",
    "c = integrate_fast(rparams)\n",
    "end = time.perf_counter()\n",
    "print(end - start)\n",
    "print(c)"
   ]
  },
  {
   "cell_type": "code",
   "execution_count": 77,
   "metadata": {},
   "outputs": [
    {
     "name": "stdout",
     "output_type": "stream",
     "text": [
      "66.0558016\n",
      "28.7246204752250\n"
     ]
    }
   ],
   "source": [
    "start = time.perf_counter()\n",
    "c = integrate_sympy_old(rparams)\n",
    "end = time.perf_counter()\n",
    "print(end - start)\n",
    "print(c)"
   ]
  },
  {
   "cell_type": "code",
   "execution_count": 78,
   "metadata": {},
   "outputs": [
    {
     "name": "stdout",
     "output_type": "stream",
     "text": [
      "65.23248180000019\n",
      "28.7246204752250\n"
     ]
    }
   ],
   "source": [
    "start = time.perf_counter()\n",
    "c = integrate_sympy_new(rparams)\n",
    "end = time.perf_counter()\n",
    "print(end - start)\n",
    "print(c)"
   ]
  },
  {
   "cell_type": "code",
   "execution_count": 76,
   "metadata": {},
   "outputs": [
    {
     "name": "stdout",
     "output_type": "stream",
     "text": [
      "47.871373400000266\n",
      "28.76655358198561\n"
     ]
    }
   ],
   "source": [
    "start = time.perf_counter()\n",
    "c = integrate_fast(rparams)\n",
    "end = time.perf_counter()\n",
    "print(end - start)\n",
    "print(c)"
   ]
  }
 ],
 "metadata": {
  "kernelspec": {
   "display_name": "Python 3",
   "language": "python",
   "name": "python3"
  },
  "language_info": {
   "codemirror_mode": {
    "name": "ipython",
    "version": 3
   },
   "file_extension": ".py",
   "mimetype": "text/x-python",
   "name": "python",
   "nbconvert_exporter": "python",
   "pygments_lexer": "ipython3",
   "version": "3.8.10"
  }
 },
 "nbformat": 4,
 "nbformat_minor": 4
}
